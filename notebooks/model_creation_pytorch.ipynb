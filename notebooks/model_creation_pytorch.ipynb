{
 "cells": [
  {
   "cell_type": "code",
   "execution_count": 255,
   "metadata": {},
   "outputs": [],
   "source": [
    "import torch\n",
    "import pandas as pd\n",
    "import numpy as np\n",
    "from sklearn import feature_extraction\n",
    "from sklearn.model_selection import train_test_split\n",
    "from torch import nn\n",
    "from sklearn.metrics import confusion_matrix, ConfusionMatrixDisplay\n",
    "import matplotlib.pyplot as plt"
   ]
  },
  {
   "cell_type": "code",
   "execution_count": 256,
   "metadata": {},
   "outputs": [],
   "source": [
    "device = 'mps' if torch.backends.mps.is_available() else 'cpu'"
   ]
  },
  {
   "cell_type": "code",
   "execution_count": 257,
   "metadata": {},
   "outputs": [],
   "source": [
    "RANDOM_SEED = 45"
   ]
  },
  {
   "cell_type": "code",
   "execution_count": 258,
   "metadata": {},
   "outputs": [
    {
     "data": {
      "text/html": [
       "<div>\n",
       "<style scoped>\n",
       "    .dataframe tbody tr th:only-of-type {\n",
       "        vertical-align: middle;\n",
       "    }\n",
       "\n",
       "    .dataframe tbody tr th {\n",
       "        vertical-align: top;\n",
       "    }\n",
       "\n",
       "    .dataframe thead th {\n",
       "        text-align: right;\n",
       "    }\n",
       "</style>\n",
       "<table border=\"1\" class=\"dataframe\">\n",
       "  <thead>\n",
       "    <tr style=\"text-align: right;\">\n",
       "      <th></th>\n",
       "      <th>id</th>\n",
       "      <th>keyword</th>\n",
       "      <th>location</th>\n",
       "      <th>text</th>\n",
       "      <th>target</th>\n",
       "    </tr>\n",
       "  </thead>\n",
       "  <tbody>\n",
       "    <tr>\n",
       "      <th>0</th>\n",
       "      <td>1</td>\n",
       "      <td>NaN</td>\n",
       "      <td>NaN</td>\n",
       "      <td>Our Deeds are the Reason of this #earthquake M...</td>\n",
       "      <td>1</td>\n",
       "    </tr>\n",
       "    <tr>\n",
       "      <th>1</th>\n",
       "      <td>4</td>\n",
       "      <td>NaN</td>\n",
       "      <td>NaN</td>\n",
       "      <td>Forest fire near La Ronge Sask. Canada</td>\n",
       "      <td>1</td>\n",
       "    </tr>\n",
       "    <tr>\n",
       "      <th>2</th>\n",
       "      <td>5</td>\n",
       "      <td>NaN</td>\n",
       "      <td>NaN</td>\n",
       "      <td>All residents asked to 'shelter in place' are ...</td>\n",
       "      <td>1</td>\n",
       "    </tr>\n",
       "    <tr>\n",
       "      <th>3</th>\n",
       "      <td>6</td>\n",
       "      <td>NaN</td>\n",
       "      <td>NaN</td>\n",
       "      <td>13,000 people receive #wildfires evacuation or...</td>\n",
       "      <td>1</td>\n",
       "    </tr>\n",
       "    <tr>\n",
       "      <th>4</th>\n",
       "      <td>7</td>\n",
       "      <td>NaN</td>\n",
       "      <td>NaN</td>\n",
       "      <td>Just got sent this photo from Ruby #Alaska as ...</td>\n",
       "      <td>1</td>\n",
       "    </tr>\n",
       "  </tbody>\n",
       "</table>\n",
       "</div>"
      ],
      "text/plain": [
       "   id keyword location                                               text  \\\n",
       "0   1     NaN      NaN  Our Deeds are the Reason of this #earthquake M...   \n",
       "1   4     NaN      NaN             Forest fire near La Ronge Sask. Canada   \n",
       "2   5     NaN      NaN  All residents asked to 'shelter in place' are ...   \n",
       "3   6     NaN      NaN  13,000 people receive #wildfires evacuation or...   \n",
       "4   7     NaN      NaN  Just got sent this photo from Ruby #Alaska as ...   \n",
       "\n",
       "   target  \n",
       "0       1  \n",
       "1       1  \n",
       "2       1  \n",
       "3       1  \n",
       "4       1  "
      ]
     },
     "execution_count": 258,
     "metadata": {},
     "output_type": "execute_result"
    }
   ],
   "source": [
    "df: pd.DataFrame = pd.read_csv('../data/row/train.csv')\n",
    "\n",
    "df.head()"
   ]
  },
  {
   "cell_type": "code",
   "execution_count": 259,
   "metadata": {},
   "outputs": [
    {
     "data": {
      "text/html": [
       "<div>\n",
       "<style scoped>\n",
       "    .dataframe tbody tr th:only-of-type {\n",
       "        vertical-align: middle;\n",
       "    }\n",
       "\n",
       "    .dataframe tbody tr th {\n",
       "        vertical-align: top;\n",
       "    }\n",
       "\n",
       "    .dataframe thead th {\n",
       "        text-align: right;\n",
       "    }\n",
       "</style>\n",
       "<table border=\"1\" class=\"dataframe\">\n",
       "  <thead>\n",
       "    <tr style=\"text-align: right;\">\n",
       "      <th></th>\n",
       "      <th>id</th>\n",
       "      <th>keyword</th>\n",
       "      <th>location</th>\n",
       "      <th>text</th>\n",
       "    </tr>\n",
       "  </thead>\n",
       "  <tbody>\n",
       "    <tr>\n",
       "      <th>0</th>\n",
       "      <td>0</td>\n",
       "      <td>NaN</td>\n",
       "      <td>NaN</td>\n",
       "      <td>Just happened a terrible car crash</td>\n",
       "    </tr>\n",
       "    <tr>\n",
       "      <th>1</th>\n",
       "      <td>2</td>\n",
       "      <td>NaN</td>\n",
       "      <td>NaN</td>\n",
       "      <td>Heard about #earthquake is different cities, s...</td>\n",
       "    </tr>\n",
       "    <tr>\n",
       "      <th>2</th>\n",
       "      <td>3</td>\n",
       "      <td>NaN</td>\n",
       "      <td>NaN</td>\n",
       "      <td>there is a forest fire at spot pond, geese are...</td>\n",
       "    </tr>\n",
       "    <tr>\n",
       "      <th>3</th>\n",
       "      <td>9</td>\n",
       "      <td>NaN</td>\n",
       "      <td>NaN</td>\n",
       "      <td>Apocalypse lighting. #Spokane #wildfires</td>\n",
       "    </tr>\n",
       "    <tr>\n",
       "      <th>4</th>\n",
       "      <td>11</td>\n",
       "      <td>NaN</td>\n",
       "      <td>NaN</td>\n",
       "      <td>Typhoon Soudelor kills 28 in China and Taiwan</td>\n",
       "    </tr>\n",
       "  </tbody>\n",
       "</table>\n",
       "</div>"
      ],
      "text/plain": [
       "   id keyword location                                               text\n",
       "0   0     NaN      NaN                 Just happened a terrible car crash\n",
       "1   2     NaN      NaN  Heard about #earthquake is different cities, s...\n",
       "2   3     NaN      NaN  there is a forest fire at spot pond, geese are...\n",
       "3   9     NaN      NaN           Apocalypse lighting. #Spokane #wildfires\n",
       "4  11     NaN      NaN      Typhoon Soudelor kills 28 in China and Taiwan"
      ]
     },
     "execution_count": 259,
     "metadata": {},
     "output_type": "execute_result"
    }
   ],
   "source": [
    "df_result = pd.read_csv('../data/row/test.csv')\n",
    "\n",
    "df_result.head()"
   ]
  },
  {
   "cell_type": "code",
   "execution_count": 260,
   "metadata": {},
   "outputs": [],
   "source": [
    "count_vactorizer = feature_extraction.text.CountVectorizer()\n",
    "\n",
    "vectors = count_vactorizer.fit_transform(df.text)\n",
    "\n",
    "vectors_array = vectors.toarray()"
   ]
  },
  {
   "cell_type": "code",
   "execution_count": 261,
   "metadata": {},
   "outputs": [
    {
     "data": {
      "text/plain": [
       "(torch.Size([7613, 21637]),\n",
       " torch.Size([7613]),\n",
       " device(type='mps', index=0),\n",
       " device(type='mps', index=0))"
      ]
     },
     "execution_count": 261,
     "metadata": {},
     "output_type": "execute_result"
    }
   ],
   "source": [
    "X_tensor = torch.tensor(vectors_array, dtype=torch.float32, device=device)\n",
    "y_tensor = torch.tensor(df.target, dtype=torch.float32, device=device)\n",
    "\n",
    "X_tensor.shape, y_tensor.shape, X_tensor.device, y_tensor.device"
   ]
  },
  {
   "cell_type": "code",
   "execution_count": 262,
   "metadata": {},
   "outputs": [
    {
     "data": {
      "text/plain": [
       "torch.Size([3263, 21637])"
      ]
     },
     "execution_count": 262,
     "metadata": {},
     "output_type": "execute_result"
    }
   ],
   "source": [
    "result_vectors = count_vactorizer.transform(df_result.text)\n",
    "\n",
    "result_array = result_vectors.toarray()\n",
    "\n",
    "result_tensor = torch.tensor(result_array, dtype=torch.float32).to(device)\n",
    "\n",
    "result_tensor.shape"
   ]
  },
  {
   "cell_type": "code",
   "execution_count": 263,
   "metadata": {},
   "outputs": [
    {
     "data": {
      "text/plain": [
       "(torch.Size([6090, 21637]),\n",
       " torch.Size([1523, 21637]),\n",
       " torch.Size([6090]),\n",
       " torch.Size([1523]),\n",
       " torch.Tensor)"
      ]
     },
     "execution_count": 263,
     "metadata": {},
     "output_type": "execute_result"
    }
   ],
   "source": [
    "X_train, X_test, y_train, y_test = train_test_split(X_tensor, y_tensor, test_size=0.2, random_state=RANDOM_SEED)\n",
    "\n",
    "X_train.shape, X_test.shape, y_train.shape, y_test.shape, type(X_train)"
   ]
  },
  {
   "cell_type": "code",
   "execution_count": 264,
   "metadata": {},
   "outputs": [],
   "source": [
    "train_dataset = torch.utils.data.TensorDataset(X_train, y_train)\n",
    "test_dataset = torch.utils.data.TensorDataset(X_test, y_test)\n",
    "\n",
    "BATCH_SIZE = 32\n",
    "\n",
    "train_dataloader = torch.utils.data.DataLoader(dataset=train_dataset, batch_size=BATCH_SIZE, shuffle=True)\n",
    "test_dataloader = torch.utils.data.DataLoader(dataset=test_dataset, batch_size=BATCH_SIZE)"
   ]
  },
  {
   "cell_type": "code",
   "execution_count": 265,
   "metadata": {},
   "outputs": [],
   "source": [
    "class NNClassifierV0(nn.Module):\n",
    "    def __init__(self) -> None:\n",
    "        super(NNClassifierV0, self).__init__()\n",
    "        self.layer_stack = nn.Sequential(\n",
    "            nn.Linear(in_features=X_train.shape[1], out_features=16),\n",
    "            # nn.BatchNorm1d(16),\n",
    "            nn.ReLU(),\n",
    "            nn.Dropout(0.5),\n",
    "            nn.Linear(in_features=16, out_features=8),\n",
    "            # nn.BatchNorm1d(8),\n",
    "            nn.ReLU(),\n",
    "            nn.Dropout(0.5),\n",
    "            nn.Linear(in_features=8, out_features=1)\n",
    "        )\n",
    "    def forward(self, x: torch.Tensor) -> torch.Tensor:\n",
    "        return self.layer_stack(x)"
   ]
  },
  {
   "cell_type": "code",
   "execution_count": 266,
   "metadata": {},
   "outputs": [
    {
     "data": {
      "text/plain": [
       "OrderedDict([('layer_stack.0.weight',\n",
       "              tensor([[-0.0043,  0.0063,  0.0025,  ..., -0.0029, -0.0028, -0.0036],\n",
       "                      [ 0.0012, -0.0027, -0.0017,  ..., -0.0011,  0.0023, -0.0021],\n",
       "                      [ 0.0017,  0.0023, -0.0021,  ...,  0.0059, -0.0052,  0.0023],\n",
       "                      ...,\n",
       "                      [-0.0007, -0.0051,  0.0012,  ...,  0.0037, -0.0004,  0.0017],\n",
       "                      [ 0.0017,  0.0043,  0.0048,  ..., -0.0044,  0.0058,  0.0064],\n",
       "                      [ 0.0023, -0.0056,  0.0046,  ..., -0.0033, -0.0050, -0.0061]],\n",
       "                     device='mps:0')),\n",
       "             ('layer_stack.0.bias',\n",
       "              tensor([ 0.0011, -0.0058,  0.0040, -0.0057, -0.0005, -0.0007, -0.0053, -0.0016,\n",
       "                       0.0023, -0.0059, -0.0004, -0.0015,  0.0066,  0.0018, -0.0062, -0.0035],\n",
       "                     device='mps:0')),\n",
       "             ('layer_stack.3.weight',\n",
       "              tensor([[-0.0142, -0.0791,  0.2409, -0.1640,  0.0445, -0.1940, -0.1142, -0.1433,\n",
       "                        0.1641,  0.0839, -0.1778, -0.0332, -0.0398, -0.0005,  0.0906,  0.2094],\n",
       "                      [ 0.0507, -0.2197,  0.0704, -0.1115, -0.1493,  0.0161, -0.0927, -0.1088,\n",
       "                        0.1754, -0.1184,  0.0663,  0.0665,  0.1901,  0.1111,  0.0051,  0.1320],\n",
       "                      [-0.0511,  0.2044,  0.1302,  0.0586, -0.2223,  0.2236, -0.0187,  0.1304,\n",
       "                        0.1259, -0.2155,  0.2055,  0.0597,  0.1557,  0.0568,  0.0839,  0.0851],\n",
       "                      [ 0.1292, -0.2459, -0.0193, -0.0012,  0.1309, -0.1447,  0.1296, -0.0825,\n",
       "                       -0.1028,  0.2045, -0.1594, -0.1978, -0.1484, -0.1567, -0.0071, -0.1888],\n",
       "                      [-0.1787, -0.1755, -0.0238, -0.0855, -0.1440,  0.0577, -0.2104,  0.1530,\n",
       "                        0.1189,  0.1663,  0.1737, -0.1358, -0.0763, -0.1317, -0.1215,  0.0292],\n",
       "                      [-0.1068,  0.0846,  0.1120,  0.1510, -0.0323, -0.1289, -0.1664,  0.0683,\n",
       "                       -0.0740,  0.2407,  0.2080,  0.1995, -0.1636, -0.2234, -0.1597,  0.0661],\n",
       "                      [ 0.0222, -0.0062,  0.0819, -0.0112,  0.1730,  0.0811,  0.1231,  0.0412,\n",
       "                        0.2310, -0.0984,  0.0828, -0.1294, -0.1604,  0.2435, -0.0757, -0.1101],\n",
       "                      [ 0.0818, -0.0699, -0.1224, -0.1011,  0.0630,  0.0958, -0.0171, -0.2406,\n",
       "                       -0.0473,  0.2080, -0.1838, -0.1440,  0.1874,  0.0380,  0.1216, -0.1297]],\n",
       "                     device='mps:0')),\n",
       "             ('layer_stack.3.bias',\n",
       "              tensor([-0.0986, -0.1829, -0.2177, -0.1602,  0.0288,  0.0538, -0.0084, -0.1863],\n",
       "                     device='mps:0')),\n",
       "             ('layer_stack.6.weight',\n",
       "              tensor([[-0.2647,  0.3392,  0.3389, -0.0270,  0.3321,  0.0633,  0.1286, -0.1919]],\n",
       "                     device='mps:0')),\n",
       "             ('layer_stack.6.bias', tensor([-0.2300], device='mps:0'))])"
      ]
     },
     "execution_count": 266,
     "metadata": {},
     "output_type": "execute_result"
    }
   ],
   "source": [
    "torch.manual_seed(RANDOM_SEED)\n",
    "model_1 = NNClassifierV0()\n",
    "model_1.to(device)\n",
    "\n",
    "model_1.state_dict()"
   ]
  },
  {
   "cell_type": "code",
   "execution_count": 267,
   "metadata": {},
   "outputs": [],
   "source": [
    "loss_fn = nn.BCEWithLogitsLoss()\n",
    "optimizer = torch.optim.AdamW(params=model_1.parameters(), lr=0.0001)"
   ]
  },
  {
   "cell_type": "code",
   "execution_count": 268,
   "metadata": {},
   "outputs": [],
   "source": [
    "def accuracy_fn(y_true, y_pred):\n",
    "    correct = torch.eq(y_true, y_pred).sum().item()\n",
    "    acc = (correct / len(y_pred)) * 100\n",
    "    return acc"
   ]
  },
  {
   "cell_type": "code",
   "execution_count": 269,
   "metadata": {},
   "outputs": [
    {
     "name": "stdout",
     "output_type": "stream",
     "text": [
      "Epoch: 10/100, train_loss = 0.5553, train_acc = 82.18%, test_loss = 0.5660, test_acc = 78.25%\n",
      "Epoch: 20/100, train_loss = 0.4309, train_acc = 90.27%, test_loss = 0.4976, test_acc = 79.86%\n",
      "Epoch: 30/100, train_loss = 0.2938, train_acc = 92.83%, test_loss = 0.4456, test_acc = 81.18%\n",
      "Epoch: 40/100, train_loss = 0.2177, train_acc = 94.19%, test_loss = 0.4595, test_acc = 80.86%\n",
      "Epoch: 50/100, train_loss = 0.1675, train_acc = 95.60%, test_loss = 0.5094, test_acc = 80.66%\n",
      "Epoch: 60/100, train_loss = 0.1276, train_acc = 96.79%, test_loss = 0.5721, test_acc = 80.47%\n",
      "Epoch: 70/100, train_loss = 0.1089, train_acc = 97.15%, test_loss = 0.6601, test_acc = 79.49%\n",
      "Epoch: 80/100, train_loss = 0.0925, train_acc = 97.61%, test_loss = 0.7576, test_acc = 79.29%\n",
      "Epoch: 90/100, train_loss = 0.0846, train_acc = 97.59%, test_loss = 0.8544, test_acc = 78.97%\n",
      "Epoch: 100/100, train_loss = 0.0815, train_acc = 97.41%, test_loss = 0.9540, test_acc = 78.45%\n"
     ]
    }
   ],
   "source": [
    "torch.manual_seed(RANDOM_SEED)\n",
    "EPOCHS = 100\n",
    "\n",
    "for epoch in range(EPOCHS):\n",
    "    \n",
    "    train_loss, train_acc = 0, 0\n",
    "    for X, y in train_dataloader:\n",
    "        model_1.train()\n",
    "        y_logits = model_1(X).squeeze()\n",
    "        y_pred = torch.round(torch.sigmoid(y_logits))\n",
    "        loss = loss_fn(y_logits, y)\n",
    "        train_acc += accuracy_fn(y_true=y, y_pred=y_pred)\n",
    "        train_loss += loss\n",
    "        optimizer.zero_grad()\n",
    "        loss.backward()\n",
    "        optimizer.step()\n",
    "    train_loss /= len(train_dataloader)\n",
    "    train_acc /= len(train_dataloader)\n",
    "    \n",
    "    test_loss, test_acc = 0, 0\n",
    "    model_1.eval()\n",
    "    with torch.inference_mode():\n",
    "        for X, y in test_dataloader:\n",
    "            test_logits = model_1(X).squeeze()\n",
    "            test_pred = torch.round(torch.sigmoid(test_logits))\n",
    "            test_loss += loss_fn(test_logits, y)\n",
    "            test_acc += accuracy_fn(y_true=y, y_pred=test_pred)\n",
    "\n",
    "        test_loss /= len(test_dataloader)\n",
    "        test_acc /= len(test_dataloader)\n",
    "    \n",
    "    if (epoch + 1) % 10 == 0:\n",
    "        print(f'Epoch: {epoch+1}/{EPOCHS}, {train_loss = :.4f}, {train_acc = :.2f}%, {test_loss = :.4f}, {test_acc = :.2f}%')"
   ]
  },
  {
   "cell_type": "code",
   "execution_count": 270,
   "metadata": {},
   "outputs": [
    {
     "data": {
      "text/plain": [
       "(tensor([0., 0., 1.,  ..., 0., 0., 1.]),\n",
       " tensor([0., 0., 1.,  ..., 0., 0., 0.]))"
      ]
     },
     "execution_count": 270,
     "metadata": {},
     "output_type": "execute_result"
    }
   ],
   "source": [
    "model_1.eval()\n",
    "with torch.inference_mode():\n",
    "    y_test_pred = torch.round(torch.sigmoid(model_1(X_test).squeeze())).cpu()\n",
    "y_test = y_test.cpu()\n",
    "y_test_pred, y_test"
   ]
  },
  {
   "cell_type": "code",
   "execution_count": 271,
   "metadata": {},
   "outputs": [
    {
     "data": {
      "image/png": "[encoded data removed]",
      "text/plain": [
       "<Figure size 640x480 with 2 Axes>"
      ]
     },
     "metadata": {},
     "output_type": "display_data"
    }
   ],
   "source": [
    "cm = confusion_matrix(y_true=y_test, y_pred=y_test_pred)\n",
    "\n",
    "display = ConfusionMatrixDisplay(confusion_matrix=cm, display_labels=[0, 1])\n",
    "\n",
    "display.plot(cmap=plt.cm.Oranges)\n",
    "\n",
    "plt.title('Confusion Matrix for test data')\n",
    "plt.xlabel('Predicted Label')\n",
    "plt.ylabel('True Label')\n",
    "plt.show()"
   ]
  },
  {
   "cell_type": "code",
   "execution_count": 272,
   "metadata": {},
   "outputs": [
    {
     "data": {
      "text/plain": [
       "torch.Size([3263])"
      ]
     },
     "execution_count": 272,
     "metadata": {},
     "output_type": "execute_result"
    }
   ],
   "source": [
    "model_1.eval()\n",
    "with torch.inference_mode():\n",
    "    result_logits = model_1(result_tensor).squeeze()\n",
    "    result_labels = torch.round(torch.sigmoid(result_logits))\n",
    "result_labels.shape"
   ]
  },
  {
   "cell_type": "code",
   "execution_count": 273,
   "metadata": {},
   "outputs": [
    {
     "data": {
      "text/plain": [
       "array([1, 0, 1, ..., 1, 1, 1])"
      ]
     },
     "execution_count": 273,
     "metadata": {},
     "output_type": "execute_result"
    }
   ],
   "source": [
    "result_labels_np = result_labels.cpu().numpy().astype(int)\n",
    "\n",
    "result_labels_np"
   ]
  },
  {
   "cell_type": "code",
   "execution_count": 274,
   "metadata": {},
   "outputs": [],
   "source": [
    "df_result['target'] = result_labels_np"
   ]
  },
  {
   "cell_type": "code",
   "execution_count": 275,
   "metadata": {},
   "outputs": [
    {
     "data": {
      "text/html": [
       "<div>\n",
       "<style scoped>\n",
       "    .dataframe tbody tr th:only-of-type {\n",
       "        vertical-align: middle;\n",
       "    }\n",
       "\n",
       "    .dataframe tbody tr th {\n",
       "        vertical-align: top;\n",
       "    }\n",
       "\n",
       "    .dataframe thead th {\n",
       "        text-align: right;\n",
       "    }\n",
       "</style>\n",
       "<table border=\"1\" class=\"dataframe\">\n",
       "  <thead>\n",
       "    <tr style=\"text-align: right;\">\n",
       "      <th></th>\n",
       "      <th>text</th>\n",
       "      <th>target</th>\n",
       "    </tr>\n",
       "  </thead>\n",
       "  <tbody>\n",
       "    <tr>\n",
       "      <th>2506</th>\n",
       "      <td>fUCK I CANT WAIT TO RUIN AUBREY'S WHOLE FIC AN...</td>\n",
       "      <td>0</td>\n",
       "    </tr>\n",
       "    <tr>\n",
       "      <th>2456</th>\n",
       "      <td>@hawk_nancy Discovered by @NickCannon \\n Liste...</td>\n",
       "      <td>0</td>\n",
       "    </tr>\n",
       "    <tr>\n",
       "      <th>1081</th>\n",
       "      <td>Shaping the to come: multimillion chop local b...</td>\n",
       "      <td>0</td>\n",
       "    </tr>\n",
       "    <tr>\n",
       "      <th>440</th>\n",
       "      <td>?? New Ladies Shoulder Tote #Handbag Faux Leat...</td>\n",
       "      <td>0</td>\n",
       "    </tr>\n",
       "    <tr>\n",
       "      <th>1222</th>\n",
       "      <td>paladins is going to be a disaster</td>\n",
       "      <td>0</td>\n",
       "    </tr>\n",
       "    <tr>\n",
       "      <th>2625</th>\n",
       "      <td>Ebay Snipe RT? http://t.co/tRw1OmykQz Whelen S...</td>\n",
       "      <td>0</td>\n",
       "    </tr>\n",
       "    <tr>\n",
       "      <th>1754</th>\n",
       "      <td>Politicians are using false allegations to att...</td>\n",
       "      <td>0</td>\n",
       "    </tr>\n",
       "    <tr>\n",
       "      <th>370</th>\n",
       "      <td>Oh I see we are now tied?  Sweet!  It's all in...</td>\n",
       "      <td>0</td>\n",
       "    </tr>\n",
       "    <tr>\n",
       "      <th>12</th>\n",
       "      <td>No don't tell me that!</td>\n",
       "      <td>0</td>\n",
       "    </tr>\n",
       "    <tr>\n",
       "      <th>1917</th>\n",
       "      <td>@LoganMeadows11 @ChristianStec_ he's weak sauc...</td>\n",
       "      <td>0</td>\n",
       "    </tr>\n",
       "  </tbody>\n",
       "</table>\n",
       "</div>"
      ],
      "text/plain": [
       "                                                   text  target\n",
       "2506  fUCK I CANT WAIT TO RUIN AUBREY'S WHOLE FIC AN...       0\n",
       "2456  @hawk_nancy Discovered by @NickCannon \\n Liste...       0\n",
       "1081  Shaping the to come: multimillion chop local b...       0\n",
       "440   ?? New Ladies Shoulder Tote #Handbag Faux Leat...       0\n",
       "1222                 paladins is going to be a disaster       0\n",
       "2625  Ebay Snipe RT? http://t.co/tRw1OmykQz Whelen S...       0\n",
       "1754  Politicians are using false allegations to att...       0\n",
       "370   Oh I see we are now tied?  Sweet!  It's all in...       0\n",
       "12                               No don't tell me that!       0\n",
       "1917  @LoganMeadows11 @ChristianStec_ he's weak sauc...       0"
      ]
     },
     "execution_count": 275,
     "metadata": {},
     "output_type": "execute_result"
    }
   ],
   "source": [
    "df_result[['text', 'target']][df_result['target'] == 0].sample(10, random_state=RANDOM_SEED)"
   ]
  },
  {
   "cell_type": "code",
   "execution_count": 276,
   "metadata": {},
   "outputs": [
    {
     "data": {
      "text/html": [
       "<div>\n",
       "<style scoped>\n",
       "    .dataframe tbody tr th:only-of-type {\n",
       "        vertical-align: middle;\n",
       "    }\n",
       "\n",
       "    .dataframe tbody tr th {\n",
       "        vertical-align: top;\n",
       "    }\n",
       "\n",
       "    .dataframe thead th {\n",
       "        text-align: right;\n",
       "    }\n",
       "</style>\n",
       "<table border=\"1\" class=\"dataframe\">\n",
       "  <thead>\n",
       "    <tr style=\"text-align: right;\">\n",
       "      <th></th>\n",
       "      <th>text</th>\n",
       "      <th>target</th>\n",
       "    </tr>\n",
       "  </thead>\n",
       "  <tbody>\n",
       "    <tr>\n",
       "      <th>1717</th>\n",
       "      <td>Hvy rain wind sm hail Tree down on Bluff Ridge...</td>\n",
       "      <td>1</td>\n",
       "    </tr>\n",
       "    <tr>\n",
       "      <th>2475</th>\n",
       "      <td>@foxandfriends where is protest looting and ri...</td>\n",
       "      <td>1</td>\n",
       "    </tr>\n",
       "    <tr>\n",
       "      <th>1602</th>\n",
       "      <td>'We must educate first responders about how to...</td>\n",
       "      <td>1</td>\n",
       "    </tr>\n",
       "    <tr>\n",
       "      <th>765</th>\n",
       "      <td>Call to car vs fed ex truck head on collision ...</td>\n",
       "      <td>1</td>\n",
       "    </tr>\n",
       "    <tr>\n",
       "      <th>920</th>\n",
       "      <td>This wall is going to be the death of me...due...</td>\n",
       "      <td>1</td>\n",
       "    </tr>\n",
       "    <tr>\n",
       "      <th>1236</th>\n",
       "      <td>#mightyworld Thousands displaced after monsoon...</td>\n",
       "      <td>1</td>\n",
       "    </tr>\n",
       "    <tr>\n",
       "      <th>39</th>\n",
       "      <td>On the #M42 northbound between junctions J3 an...</td>\n",
       "      <td>1</td>\n",
       "    </tr>\n",
       "    <tr>\n",
       "      <th>263</th>\n",
       "      <td>FedEx stops shipping potential bioterror patho...</td>\n",
       "      <td>1</td>\n",
       "    </tr>\n",
       "    <tr>\n",
       "      <th>1791</th>\n",
       "      <td>Yeah it actually is this whole week we in a he...</td>\n",
       "      <td>1</td>\n",
       "    </tr>\n",
       "    <tr>\n",
       "      <th>2279</th>\n",
       "      <td>Pandemonium In Aba As Woman Delivers Baby With...</td>\n",
       "      <td>1</td>\n",
       "    </tr>\n",
       "  </tbody>\n",
       "</table>\n",
       "</div>"
      ],
      "text/plain": [
       "                                                   text  target\n",
       "1717  Hvy rain wind sm hail Tree down on Bluff Ridge...       1\n",
       "2475  @foxandfriends where is protest looting and ri...       1\n",
       "1602  'We must educate first responders about how to...       1\n",
       "765   Call to car vs fed ex truck head on collision ...       1\n",
       "920   This wall is going to be the death of me...due...       1\n",
       "1236  #mightyworld Thousands displaced after monsoon...       1\n",
       "39    On the #M42 northbound between junctions J3 an...       1\n",
       "263   FedEx stops shipping potential bioterror patho...       1\n",
       "1791  Yeah it actually is this whole week we in a he...       1\n",
       "2279  Pandemonium In Aba As Woman Delivers Baby With...       1"
      ]
     },
     "execution_count": 276,
     "metadata": {},
     "output_type": "execute_result"
    }
   ],
   "source": [
    "df_result[['text', 'target']][df_result['target'] == 1].sample(10)"
   ]
  },
  {
   "cell_type": "code",
   "execution_count": 277,
   "metadata": {},
   "outputs": [
    {
     "data": {
      "text/html": [
       "<div>\n",
       "<style scoped>\n",
       "    .dataframe tbody tr th:only-of-type {\n",
       "        vertical-align: middle;\n",
       "    }\n",
       "\n",
       "    .dataframe tbody tr th {\n",
       "        vertical-align: top;\n",
       "    }\n",
       "\n",
       "    .dataframe thead th {\n",
       "        text-align: right;\n",
       "    }\n",
       "</style>\n",
       "<table border=\"1\" class=\"dataframe\">\n",
       "  <thead>\n",
       "    <tr style=\"text-align: right;\">\n",
       "      <th></th>\n",
       "      <th>text</th>\n",
       "      <th>target</th>\n",
       "    </tr>\n",
       "  </thead>\n",
       "  <tbody>\n",
       "    <tr>\n",
       "      <th>1772</th>\n",
       "      <td>#ine #instyle Olap #world pres: http://t.co/PJ...</td>\n",
       "      <td>1</td>\n",
       "    </tr>\n",
       "    <tr>\n",
       "      <th>12</th>\n",
       "      <td>No don't tell me that!</td>\n",
       "      <td>0</td>\n",
       "    </tr>\n",
       "    <tr>\n",
       "      <th>2569</th>\n",
       "      <td>*aggressively screams* https://t.co/8bHaejsUUt</td>\n",
       "      <td>0</td>\n",
       "    </tr>\n",
       "    <tr>\n",
       "      <th>1731</th>\n",
       "      <td>Boston yesterday after an intense hailstorm. P...</td>\n",
       "      <td>1</td>\n",
       "    </tr>\n",
       "    <tr>\n",
       "      <th>230</th>\n",
       "      <td>Car Receiving tube Installation for Avalanche ...</td>\n",
       "      <td>0</td>\n",
       "    </tr>\n",
       "    <tr>\n",
       "      <th>108</th>\n",
       "      <td>***Latest Updates on the Salt River Wild Horse...</td>\n",
       "      <td>0</td>\n",
       "    </tr>\n",
       "    <tr>\n",
       "      <th>258</th>\n",
       "      <td>FedEx no longer to transport bioterror germs i...</td>\n",
       "      <td>1</td>\n",
       "    </tr>\n",
       "    <tr>\n",
       "      <th>666</th>\n",
       "      <td>If a å£1 rise in wages is going to have such a...</td>\n",
       "      <td>0</td>\n",
       "    </tr>\n",
       "    <tr>\n",
       "      <th>1551</th>\n",
       "      <td>@martinsymiguel @FilipeCoelho92 FATALITY</td>\n",
       "      <td>0</td>\n",
       "    </tr>\n",
       "    <tr>\n",
       "      <th>1628</th>\n",
       "      <td>*NEW* Snap On Tools Black baseball Hat/Cap Sil...</td>\n",
       "      <td>0</td>\n",
       "    </tr>\n",
       "  </tbody>\n",
       "</table>\n",
       "</div>"
      ],
      "text/plain": [
       "                                                   text  target\n",
       "1772  #ine #instyle Olap #world pres: http://t.co/PJ...       1\n",
       "12                               No don't tell me that!       0\n",
       "2569     *aggressively screams* https://t.co/8bHaejsUUt       0\n",
       "1731  Boston yesterday after an intense hailstorm. P...       1\n",
       "230   Car Receiving tube Installation for Avalanche ...       0\n",
       "108   ***Latest Updates on the Salt River Wild Horse...       0\n",
       "258   FedEx no longer to transport bioterror germs i...       1\n",
       "666   If a å£1 rise in wages is going to have such a...       0\n",
       "1551           @martinsymiguel @FilipeCoelho92 FATALITY       0\n",
       "1628  *NEW* Snap On Tools Black baseball Hat/Cap Sil...       0"
      ]
     },
     "execution_count": 277,
     "metadata": {},
     "output_type": "execute_result"
    }
   ],
   "source": [
    "df_result[['text', 'target']].sample(10, random_state=45)"
   ]
  },
  {
   "cell_type": "code",
   "execution_count": 279,
   "metadata": {},
   "outputs": [],
   "source": [
    "df_result[['id', 'target']].to_csv('../data/processed/submission_3.csv', index=False)"
   ]
  }
 ],
 "metadata": {
  "kernelspec": {
   "display_name": "Python 3",
   "language": "python",
   "name": "python3"
  },
  "language_info": {
   "codemirror_mode": {
    "name": "ipython",
    "version": 3
   },
   "file_extension": ".py",
   "mimetype": "text/x-python",
   "name": "python",
   "nbconvert_exporter": "python",
   "pygments_lexer": "ipython3",
   "version": "3.12.5"
  }
 },
 "nbformat": 4,
 "nbformat_minor": 2
}
